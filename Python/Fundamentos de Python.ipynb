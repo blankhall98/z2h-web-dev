{
 "cells": [
  {
   "cell_type": "markdown",
   "metadata": {},
   "source": [
    "# Fundamentos de Python\n",
    "### Un curso de zero2hero"
   ]
  },
  {
   "cell_type": "markdown",
   "metadata": {},
   "source": [
    "#### 1. Variables"
   ]
  },
  {
   "cell_type": "code",
   "execution_count": 2,
   "metadata": {},
   "outputs": [],
   "source": [
    "name = 'Jonatan' #str = string\n",
    "age = 25 #int = integer\n",
    "wage = 17850.72 #float "
   ]
  },
  {
   "cell_type": "code",
   "execution_count": 4,
   "metadata": {},
   "outputs": [
    {
     "data": {
      "text/plain": [
       "float"
      ]
     },
     "execution_count": 4,
     "metadata": {},
     "output_type": "execute_result"
    }
   ],
   "source": [
    "type(wage)"
   ]
  },
  {
   "cell_type": "markdown",
   "metadata": {},
   "source": [
    "##### 1.1 Interacción entre Variables"
   ]
  },
  {
   "cell_type": "code",
   "execution_count": 6,
   "metadata": {},
   "outputs": [],
   "source": [
    "wage = 17850.72\n",
    "\n",
    "renta = 4200\n",
    "servicios = 500\n",
    "alimento_semana = 1500\n",
    "salidas_semana = 1000\n",
    "\n",
    "gastos = renta + servicios + alimento_semana*4 + salidas_semana*4"
   ]
  },
  {
   "cell_type": "code",
   "execution_count": 10,
   "metadata": {},
   "outputs": [],
   "source": [
    "sobrante = wage - gastos"
   ]
  },
  {
   "cell_type": "code",
   "execution_count": 11,
   "metadata": {},
   "outputs": [
    {
     "name": "stdout",
     "output_type": "stream",
     "text": [
      "Con un ingreso bruto de $17850.72, y un gasto total de $14700, el sobrante neto es de $3150.720000000001\n"
     ]
    }
   ],
   "source": [
    "print(f'Con un ingreso bruto de ${wage}, y un gasto total de ${gastos}, el sobrante neto es de ${sobrante}')"
   ]
  },
  {
   "cell_type": "markdown",
   "metadata": {},
   "source": [
    "##### 1.2 Comparación de Variables"
   ]
  },
  {
   "cell_type": "code",
   "execution_count": 14,
   "metadata": {},
   "outputs": [],
   "source": [
    "edad = 19\n",
    "\n",
    "filtro = 18"
   ]
  },
  {
   "cell_type": "code",
   "execution_count": 15,
   "metadata": {},
   "outputs": [
    {
     "data": {
      "text/plain": [
       "True"
      ]
     },
     "execution_count": 15,
     "metadata": {},
     "output_type": "execute_result"
    }
   ],
   "source": [
    "#comparación cuantitativa\n",
    "edad >= filtro\n",
    "edad <= filtro\n",
    "edad > filtro\n",
    "edad < filtro\n",
    "edad == filtro"
   ]
  },
  {
   "cell_type": "code",
   "execution_count": 18,
   "metadata": {},
   "outputs": [
    {
     "name": "stdout",
     "output_type": "stream",
     "text": [
      "username: No\n"
     ]
    }
   ],
   "source": [
    "#true username and password\n",
    "username = 'jonatan'\n",
    "password = 'pss'\n",
    "\n",
    "usr_username = input('username: ')"
   ]
  },
  {
   "cell_type": "code",
   "execution_count": 19,
   "metadata": {},
   "outputs": [
    {
     "data": {
      "text/plain": [
       "False"
      ]
     },
     "execution_count": 19,
     "metadata": {},
     "output_type": "execute_result"
    }
   ],
   "source": [
    "#user validation\n",
    "username == usr_username"
   ]
  },
  {
   "cell_type": "markdown",
   "metadata": {},
   "source": [
    "#### 2. Condicionales"
   ]
  },
  {
   "cell_type": "code",
   "execution_count": 25,
   "metadata": {},
   "outputs": [
    {
     "name": "stdout",
     "output_type": "stream",
     "text": [
      "username: jonatan\n",
      "password: hsqush\n",
      "Correct. Welcome!\n"
     ]
    }
   ],
   "source": [
    "#true username and password\n",
    "username = 'jonatan'\n",
    "password = 'pss'\n",
    "\n",
    "#user input\n",
    "usr_username = input('username: ')\n",
    "usr_password = input('password: ')\n",
    "\n",
    "#responder de acuerdo a si nos dio de manera correcta su informción\n",
    "if username == usr_username and password == usr_password:\n",
    "    print('Correct. Welcome!')\n",
    "else:\n",
    "    print('Your username or password are not correct!')"
   ]
  },
  {
   "cell_type": "code",
   "execution_count": 28,
   "metadata": {},
   "outputs": [
    {
     "name": "stdout",
     "output_type": "stream",
     "text": [
      "repruebas\n"
     ]
    }
   ],
   "source": [
    "# si sacas menos de 6 en el examen, repruebas. si sacas exactamente 6, repites el examen\n",
    "# si sacas más de 6, pasas el examen\n",
    "calif = 5\n",
    "\n",
    "if calif < 6:\n",
    "    print('repruebas')\n",
    "elif calif == 6:\n",
    "    print('repites')\n",
    "elif calif > 6:\n",
    "    print('pasas')"
   ]
  },
  {
   "cell_type": "markdown",
   "metadata": {},
   "source": [
    "#### 3. Ciclos"
   ]
  },
  {
   "cell_type": "markdown",
   "metadata": {},
   "source": [
    "##### 3.1 Listas"
   ]
  },
  {
   "cell_type": "code",
   "execution_count": 32,
   "metadata": {},
   "outputs": [],
   "source": [
    "edades = [12,31,40,32,24]"
   ]
  },
  {
   "cell_type": "code",
   "execution_count": 33,
   "metadata": {},
   "outputs": [
    {
     "data": {
      "text/plain": [
       "5"
      ]
     },
     "execution_count": 33,
     "metadata": {},
     "output_type": "execute_result"
    }
   ],
   "source": [
    "#longitud de la lista = ¿cuántos elementos hay en la lista?\n",
    "len(edades)"
   ]
  },
  {
   "cell_type": "code",
   "execution_count": 39,
   "metadata": {},
   "outputs": [
    {
     "data": {
      "text/plain": [
       "32"
      ]
     },
     "execution_count": 39,
     "metadata": {},
     "output_type": "execute_result"
    }
   ],
   "source": [
    "#identar\n",
    "edades[-2]"
   ]
  },
  {
   "cell_type": "code",
   "execution_count": 40,
   "metadata": {},
   "outputs": [],
   "source": [
    "#agregar elementos a una lista\n",
    "edades.append(25)"
   ]
  },
  {
   "cell_type": "code",
   "execution_count": 42,
   "metadata": {},
   "outputs": [
    {
     "data": {
      "text/plain": [
       "False"
      ]
     },
     "execution_count": 42,
     "metadata": {},
     "output_type": "execute_result"
    }
   ],
   "source": [
    "#pertenencia de elementos\n",
    "100 in edades"
   ]
  },
  {
   "cell_type": "code",
   "execution_count": 43,
   "metadata": {},
   "outputs": [],
   "source": [
    "#app para la invitación a una fiesta\n",
    "invitados = ['juan','pepe','maria','sofia']"
   ]
  },
  {
   "cell_type": "code",
   "execution_count": 47,
   "metadata": {},
   "outputs": [
    {
     "name": "stdout",
     "output_type": "stream",
     "text": [
      "¿Cuál es tu nombre?: pepe\n",
      "pepe, bienvenida. Te estabamos esperando\n"
     ]
    }
   ],
   "source": [
    "nombre = input('¿Cuál es tu nombre?: ')\n",
    "\n",
    "if nombre in invitados:\n",
    "    print(f'{nombre}, bienvenida. Te estabamos esperando')\n",
    "else:\n",
    "    print(f'Yo no conozco a ningun {nombre}, vete o llamo a la policia')"
   ]
  },
  {
   "cell_type": "markdown",
   "metadata": {},
   "source": [
    "##### 3.2 Ciclo for"
   ]
  },
  {
   "cell_type": "code",
   "execution_count": 48,
   "metadata": {},
   "outputs": [],
   "source": [
    "novias = ['novia1','novia2','novia3']"
   ]
  },
  {
   "cell_type": "code",
   "execution_count": 49,
   "metadata": {},
   "outputs": [
    {
     "name": "stdout",
     "output_type": "stream",
     "text": [
      "Buenos días novia1. Te quiero mucho, eres única.\n",
      "Buenos días novia2. Te quiero mucho, eres única.\n",
      "Buenos días novia3. Te quiero mucho, eres única.\n"
     ]
    }
   ],
   "source": [
    "for novia in novias:\n",
    "    print(f'Buenos días {novia}. Te quiero mucho, eres única.')"
   ]
  },
  {
   "cell_type": "code",
   "execution_count": 50,
   "metadata": {},
   "outputs": [
    {
     "name": "stdout",
     "output_type": "stream",
     "text": [
      "Con una tasa de 1.0% se obtiene en un periodo de 12 meses, una cantidad de $11268.250301319698\n",
      "Con una tasa de 5.0% se obtiene en un periodo de 12 meses, una cantidad de $17958.5632602213\n",
      "Con una tasa de 10.0% se obtiene en un periodo de 12 meses, una cantidad de $31384.283767210032\n",
      "Con una tasa de 25.0% se obtiene en un periodo de 12 meses, una cantidad de $145519.15228366852\n",
      "Con una tasa de 50.0% se obtiene en un periodo de 12 meses, una cantidad de $1297463.37890625\n"
     ]
    }
   ],
   "source": [
    "tasas = [0.01,0.05,0.1,0.25,0.5]\n",
    "monto = 10000\n",
    "tiempo = 12\n",
    "\n",
    "for t in tasas:\n",
    "    final = monto*(1+t)**tiempo\n",
    "    print(f'Con una tasa de {t*100}% se obtiene en un periodo de {tiempo} meses, una cantidad de ${final}')"
   ]
  },
  {
   "cell_type": "markdown",
   "metadata": {},
   "source": [
    "##### 3.3 Ciclo while"
   ]
  },
  {
   "cell_type": "code",
   "execution_count": 51,
   "metadata": {},
   "outputs": [],
   "source": [
    "import numpy as np\n",
    "#numpy = numeric python"
   ]
  },
  {
   "cell_type": "code",
   "execution_count": 77,
   "metadata": {},
   "outputs": [],
   "source": [
    "contador = 0\n",
    "total = 0\n",
    "\n",
    "while contador < 100:\n",
    "    valor1 = np.random.random()\n",
    "    valor2 = np.random.random() - 0.1\n",
    "    if valor1 < valor2:\n",
    "        contador = contador + 1\n",
    "    total = total + 1"
   ]
  },
  {
   "cell_type": "markdown",
   "metadata": {},
   "source": [
    "#### 4. Funciones"
   ]
  },
  {
   "cell_type": "code",
   "execution_count": 87,
   "metadata": {},
   "outputs": [],
   "source": [
    "#calcular el interes compuesto, dado una tasa, un monto inicial y un tiempo\n",
    "\n",
    "def ic(rate,amount,time):\n",
    "    return amount*(1+rate)**time"
   ]
  },
  {
   "cell_type": "code",
   "execution_count": 90,
   "metadata": {},
   "outputs": [
    {
     "data": {
      "text/plain": [
       "16010.322185676816"
      ]
     },
     "execution_count": 90,
     "metadata": {},
     "output_type": "execute_result"
    }
   ],
   "source": [
    "ic(0.04,10000,12)"
   ]
  },
  {
   "cell_type": "code",
   "execution_count": 92,
   "metadata": {},
   "outputs": [
    {
     "name": "stdout",
     "output_type": "stream",
     "text": [
      "10000.0\n",
      "11268.250301319698\n",
      "12682.417945625455\n",
      "14257.608868461793\n",
      "16010.322185676816\n",
      "17958.5632602213\n"
     ]
    }
   ],
   "source": [
    "rates = [0.0,0.01,0.02,0.03,0.04,0.05]\n",
    "values = []\n",
    "for r in rates:\n",
    "    v = ic(r,10000,12)\n",
    "    print(v)\n",
    "    values.append(v)"
   ]
  },
  {
   "cell_type": "code",
   "execution_count": 95,
   "metadata": {},
   "outputs": [],
   "source": [
    "import matplotlib.pyplot as plt"
   ]
  },
  {
   "cell_type": "code",
   "execution_count": 96,
   "metadata": {},
   "outputs": [
    {
     "data": {
      "text/plain": [
       "[<matplotlib.lines.Line2D at 0x22034ef8b80>]"
      ]
     },
     "execution_count": 96,
     "metadata": {},
     "output_type": "execute_result"
    },
    {
     "data": {
      "image/png": "[encoded data removed]",
      "text/plain": [
       "<Figure size 432x288 with 1 Axes>"
      ]
     },
     "metadata": {
      "needs_background": "light"
     },
     "output_type": "display_data"
    }
   ],
   "source": [
    "plt.plot(rates,values)"
   ]
  },
  {
   "cell_type": "markdown",
   "metadata": {},
   "source": [
    "A partir de este momento, termina python introductorio, y comienza python intermedio, que incluye:\n",
    "- Bases de Datos (Pandas)\n",
    "- Gráficas (Matplotlib & Seaborn)\n",
    "- Programación Orientada a Objetos"
   ]
  }
 ],
 "metadata": {
  "kernelspec": {
   "display_name": "Python 3",
   "language": "python",
   "name": "python3"
  },
  "language_info": {
   "codemirror_mode": {
    "name": "ipython",
    "version": 3
   },
   "file_extension": ".py",
   "mimetype": "text/x-python",
   "name": "python",
   "nbconvert_exporter": "python",
   "pygments_lexer": "ipython3",
   "version": "3.8.5"
  }
 },
 "nbformat": 4,
 "nbformat_minor": 4
}
