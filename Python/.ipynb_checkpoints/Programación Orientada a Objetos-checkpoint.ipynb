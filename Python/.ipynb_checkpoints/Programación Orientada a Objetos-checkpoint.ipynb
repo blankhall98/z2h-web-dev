{
 "cells": [
  {
   "cell_type": "markdown",
   "metadata": {},
   "source": [
    "# Programación Orientada a Objetos"
   ]
  },
  {
   "cell_type": "code",
   "execution_count": 9,
   "metadata": {},
   "outputs": [],
   "source": [
    "import numpy as np"
   ]
  },
  {
   "cell_type": "code",
   "execution_count": 31,
   "metadata": {},
   "outputs": [],
   "source": [
    "#JSON = JavaScript Object Notation\n",
    "inputs = {\n",
    "    'name': 'Jonatan',\n",
    "    'username': '@jblank',\n",
    "    'password': 'psw',\n",
    "    'food': ['Pizza','Sushi','Foundue','Pasta','Tacos','Torta','Flauta']\n",
    "}"
   ]
  },
  {
   "cell_type": "code",
   "execution_count": 18,
   "metadata": {},
   "outputs": [],
   "source": [
    "class User:\n",
    "    \n",
    "    def __init__(self,params):\n",
    "        self.name = params['name']\n",
    "        self.username = params['username']\n",
    "        self.password = params['password']\n",
    "        self.food = params['food']\n",
    "        \n",
    "    def info(self):\n",
    "        print(f'Hi, my name is {self.name}, and my username is {self.username}')\n",
    "        \n",
    "    def select_food(self):\n",
    "        f = np.random.choice(self.food)\n",
    "        print(f'Today you will eat {f}')"
   ]
  },
  {
   "cell_type": "code",
   "execution_count": 32,
   "metadata": {},
   "outputs": [],
   "source": [
    "usr = User(inputs)"
   ]
  },
  {
   "cell_type": "code",
   "execution_count": 43,
   "metadata": {},
   "outputs": [
    {
     "name": "stdout",
     "output_type": "stream",
     "text": [
      "Today you will eat Torta\n"
     ]
    }
   ],
   "source": [
    "usr.select_food()"
   ]
  },
  {
   "cell_type": "markdown",
   "metadata": {},
   "source": [
    "### Ninja Videogame"
   ]
  },
  {
   "cell_type": "code",
   "execution_count": 73,
   "metadata": {},
   "outputs": [],
   "source": [
    "naruto = {\n",
    "    'name': 'Naruto Uzumaki',\n",
    "    'hp': 299,\n",
    "    'power': 6\n",
    "}\n",
    "\n",
    "sasuke = {\n",
    "    'name': 'Sasuke Uchiha',\n",
    "    'hp': 100,\n",
    "    'power': 9.1\n",
    "}\n",
    "\n",
    "sakura = {\n",
    "    'name': 'Sakura Hirano',\n",
    "    'hp': 125,\n",
    "    'power': 2\n",
    "}"
   ]
  },
  {
   "cell_type": "code",
   "execution_count": 70,
   "metadata": {},
   "outputs": [],
   "source": [
    "class Ninja:\n",
    "    \n",
    "    def __init__(self,params):\n",
    "        self.name = params['name']\n",
    "        self.hp = params['hp']\n",
    "        self.power = params['power']\n",
    "        self.alive = True\n",
    "        \n",
    "    def receive_attack(self,attack):\n",
    "        self.hp = self.hp - attack\n",
    "        if self.hp <= 0:\n",
    "            self.alive = False\n",
    "            \n",
    "    def attack(self):\n",
    "        a = np.random.random() * self.power\n",
    "        print(f'{self.name} attacked {a}')\n",
    "        return a"
   ]
  },
  {
   "cell_type": "code",
   "execution_count": 74,
   "metadata": {},
   "outputs": [],
   "source": [
    "ninja1 = Ninja(sakura)\n",
    "ninja2 = Ninja(sasuke)"
   ]
  },
  {
   "cell_type": "code",
   "execution_count": 75,
   "metadata": {},
   "outputs": [
    {
     "name": "stdout",
     "output_type": "stream",
     "text": [
      "Sakura Hirano attacked 1.7439914736472943\n",
      "Sasuke Uchiha attacked 2.499666068794884\n",
      "Sakura Hirano attacked 1.4790237460019768\n",
      "Sasuke Uchiha attacked 0.794937338242793\n",
      "Sakura Hirano attacked 1.720216819360967\n",
      "Sasuke Uchiha attacked 1.2236504428744324\n",
      "Sakura Hirano attacked 1.720626788643451\n",
      "Sasuke Uchiha attacked 3.3368270560900433\n",
      "Sakura Hirano attacked 1.8246029097503222\n",
      "Sasuke Uchiha attacked 8.22815606134538\n",
      "Sakura Hirano attacked 1.0586331939763365\n",
      "Sasuke Uchiha attacked 6.345220516718587\n",
      "Sakura Hirano attacked 1.4298465689925417\n",
      "Sasuke Uchiha attacked 5.045141160747139\n",
      "Sakura Hirano attacked 0.7520017372087333\n",
      "Sasuke Uchiha attacked 4.901128934602908\n",
      "Sakura Hirano attacked 1.9898326106150532\n",
      "Sasuke Uchiha attacked 0.615578183049203\n",
      "Sakura Hirano attacked 0.2844141546114336\n",
      "Sasuke Uchiha attacked 2.6082958145938293\n",
      "Sakura Hirano attacked 1.0283463010111995\n",
      "Sasuke Uchiha attacked 4.7149666377484225\n",
      "Sakura Hirano attacked 0.05957889621496126\n",
      "Sasuke Uchiha attacked 3.960582083754328\n",
      "Sakura Hirano attacked 1.4325549673655746\n",
      "Sasuke Uchiha attacked 4.668189176341619\n",
      "Sakura Hirano attacked 1.2207210898963106\n",
      "Sasuke Uchiha attacked 6.618319860491893\n",
      "Sakura Hirano attacked 1.5457634816333785\n",
      "Sasuke Uchiha attacked 7.589458186057118\n",
      "Sakura Hirano attacked 0.17695040506196968\n",
      "Sasuke Uchiha attacked 4.631132054716203\n",
      "Sakura Hirano attacked 0.38338439135917746\n",
      "Sasuke Uchiha attacked 0.015297826248575185\n",
      "Sakura Hirano attacked 0.5716900130792788\n",
      "Sasuke Uchiha attacked 0.9126940494356379\n",
      "Sakura Hirano attacked 1.4302711223730333\n",
      "Sasuke Uchiha attacked 6.256953160103136\n",
      "Sakura Hirano attacked 0.3463398242915403\n",
      "Sasuke Uchiha attacked 3.8406860657135433\n",
      "Sakura Hirano attacked 0.023652324573657513\n",
      "Sasuke Uchiha attacked 3.7432704896536073\n",
      "Sakura Hirano attacked 1.5163312720813769\n",
      "Sasuke Uchiha attacked 2.189273581538787\n",
      "Sakura Hirano attacked 0.8715987628587112\n",
      "Sasuke Uchiha attacked 7.132579215104788\n",
      "Sakura Hirano attacked 0.07788526337579826\n",
      "Sasuke Uchiha attacked 5.663440899585309\n",
      "Sakura Hirano attacked 0.7018469277330948\n",
      "Sasuke Uchiha attacked 2.1339647086244424\n",
      "Sakura Hirano attacked 0.7017097741277905\n",
      "Sasuke Uchiha attacked 3.128091092769573\n",
      "Sakura Hirano attacked 0.5339074297785287\n",
      "Sasuke Uchiha attacked 0.13845397469845838\n",
      "Sakura Hirano attacked 1.0099612836445047\n",
      "Sasuke Uchiha attacked 6.7959374561580885\n",
      "Sakura Hirano attacked 1.617186550604888\n",
      "Sasuke Uchiha attacked 1.319717202942819\n",
      "Sakura Hirano attacked 0.20273734468513283\n",
      "Sasuke Uchiha attacked 0.907804733271176\n",
      "Sakura Hirano attacked 0.017419067863346127\n",
      "Sasuke Uchiha attacked 4.2481673641277204\n",
      "Sakura Hirano attacked 0.09316403620109903\n",
      "Sasuke Uchiha attacked 2.0934510828703243\n",
      "Sakura Hirano attacked 1.111836416385527\n",
      "Sasuke Uchiha attacked 8.430822110285858\n",
      "\n",
      "-----\n",
      "\n",
      "The winner is Sasuke Uchiha\n"
     ]
    }
   ],
   "source": [
    "while ninja1.alive and ninja2.alive:\n",
    "    a1 = ninja1.attack()\n",
    "    ninja2.receive_attack(a1)\n",
    "    if ninja2.alive:\n",
    "        a2 = ninja2.attack()\n",
    "        ninja1.receive_attack(a2)\n",
    "print('\\n'+'-----'+'\\n')\n",
    "if ninja1.alive:\n",
    "    print(f'The winner is {ninja1.name}')\n",
    "else:\n",
    "    print(f'The winner is {ninja2.name}')"
   ]
  }
 ],
 "metadata": {
  "kernelspec": {
   "display_name": "Python 3",
   "language": "python",
   "name": "python3"
  },
  "language_info": {
   "codemirror_mode": {
    "name": "ipython",
    "version": 3
   },
   "file_extension": ".py",
   "mimetype": "text/x-python",
   "name": "python",
   "nbconvert_exporter": "python",
   "pygments_lexer": "ipython3",
   "version": "3.8.5"
  }
 },
 "nbformat": 4,
 "nbformat_minor": 4
}
